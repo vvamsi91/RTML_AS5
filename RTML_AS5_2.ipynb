{
  "nbformat": 4,
  "nbformat_minor": 0,
  "metadata": {
    "colab": {
      "provenance": [],
      "gpuType": "T4",
      "include_colab_link": true
    },
    "kernelspec": {
      "name": "python3",
      "display_name": "Python 3"
    },
    "language_info": {
      "name": "python"
    },
    "accelerator": "GPU"
  },
  "cells": [
    {
      "cell_type": "markdown",
      "metadata": {
        "id": "view-in-github",
        "colab_type": "text"
      },
      "source": [
        "<a href=\"https://colab.research.google.com/github/vvamsi91/RTML_AS5/blob/main/RTML_AS5_2.ipynb\" target=\"_parent\"><img src=\"https://colab.research.google.com/assets/colab-badge.svg\" alt=\"Open In Colab\"/></a>"
      ]
    },
    {
      "cell_type": "code",
      "execution_count": null,
      "metadata": {
        "colab": {
          "base_uri": "https://localhost:8080/"
        },
        "id": "joG9rVnoaVL4",
        "outputId": "de6f7526-b147-4cb7-a318-3e2d31dfd0ee"
      },
      "outputs": [
        {
          "output_type": "stream",
          "name": "stdout",
          "text": [
            "Collecting torchinfo\n",
            "  Downloading torchinfo-1.8.0-py3-none-any.whl (23 kB)\n",
            "Installing collected packages: torchinfo\n",
            "Successfully installed torchinfo-1.8.0\n"
          ]
        }
      ],
      "source": [
        "!pip install torchinfo\n",
        "\n",
        "import torch\n",
        "import torch.nn as nn\n",
        "import torch.optim as optim\n",
        "import numpy as np\n",
        "from sklearn.model_selection import train_test_split\n",
        "import time\n",
        "import numpy as np\n",
        "import torchinfo"
      ]
    },
    {
      "cell_type": "code",
      "source": [
        "from torch.utils.data import Dataset, DataLoader\n",
        "import requests\n",
        "import math\n",
        "\n",
        "# Check for GPU availability\n",
        "device = torch.device(\"cuda\" if torch.cuda.is_available() else \"cpu\")"
      ],
      "metadata": {
        "id": "Bht4YJ1SanAm"
      },
      "execution_count": null,
      "outputs": []
    },
    {
      "cell_type": "code",
      "source": [
        "url = \"https://raw.githubusercontent.com/karpathy/char-rnn/master/data/tinyshakespeare/input.txt\"\n",
        "response = requests.get(url)\n",
        "text = response.text  #Entire text data"
      ],
      "metadata": {
        "id": "meTTQioKau4-"
      },
      "execution_count": null,
      "outputs": []
    },
    {
      "cell_type": "code",
      "source": [
        "url = \"https://raw.githubusercontent.com/karpathy/char-rnn/master/data/tinyshakespeare/input.txt\"\n",
        "response = requests.get(url)\n",
        "text = response.text  # This is the entire text data\n",
        "\n",
        "# Step 2: Prepare the dataset\n",
        "sequence_length = 30\n",
        "text = text[:sequence_length * (len(text)//sequence_length)]  # Truncate text to fit sequence length\n",
        "# Create a character mapping to integers\n",
        "chars = sorted(list(set(text)))\n",
        "char_to_int = {ch: i for i, ch in enumerate(chars)}\n",
        "int_to_char = {i: ch for i, ch in enumerate(chars)}\n",
        "\n",
        "# Encode the text into integers\n",
        "encoded_text = [char_to_int[ch] for ch in text]\n",
        "\n",
        "# Create sequences and targets\n",
        "sequences = []\n",
        "targets = []\n",
        "for i in range(0, len(encoded_text) - sequence_length):\n",
        "    seq = encoded_text[i:i+sequence_length]\n",
        "    target = encoded_text[i+sequence_length]\n",
        "    sequences.append(seq)\n",
        "    targets.append(target)\n"
      ],
      "metadata": {
        "id": "uBJXSuHTaxSn"
      },
      "execution_count": null,
      "outputs": []
    },
    {
      "cell_type": "code",
      "source": [
        "# Converted lists to PyTorch tensors\n",
        "sequences = torch.tensor(sequences, dtype=torch.long)\n",
        "targets = torch.tensor(targets, dtype=torch.long)\n",
        "\n",
        "class CharDataset(Dataset):\n",
        "    def __init__(self, sequences, targets):\n",
        "        self.sequences = sequences\n",
        "        self.targets = targets\n",
        "\n",
        "    def __len__(self):\n",
        "        return len(self.sequences)\n",
        "\n",
        "    def __getitem__(self, index):\n",
        "        return self.sequences[index], self.targets[index]\n",
        "\n",
        "# Instantiate the dataset\n",
        "dataset = CharDataset(sequences, targets)\n",
        "\n",
        "batch_size = 128\n",
        "train_size = int(len(dataset) * 0.8)\n",
        "test_size = len(dataset) - train_size\n",
        "train_dataset, test_dataset = torch.utils.data.random_split(dataset, [train_size, test_size])\n",
        "\n",
        "train_loader = DataLoader(train_dataset, shuffle=True, batch_size=batch_size)\n",
        "test_loader = DataLoader(test_dataset, shuffle=False, batch_size=batch_size)"
      ],
      "metadata": {
        "id": "oafRv7Ysa0we"
      },
      "execution_count": null,
      "outputs": []
    },
    {
      "cell_type": "code",
      "source": [
        "# Convert lists to PyTorch tensors\n",
        "sequences = torch.tensor(sequences, dtype=torch.long)\n",
        "targets = torch.tensor(targets, dtype=torch.long)\n",
        "\n",
        "# Step 3: Create a dataset class\n",
        "class CharDataset(Dataset):\n",
        "    def __init__(self, sequences, targets):\n",
        "        self.sequences = sequences\n",
        "        self.targets = targets\n",
        "\n",
        "    def __len__(self):\n",
        "        return len(self.sequences)\n",
        "\n",
        "    def __getitem__(self, index):\n",
        "        return self.sequences[index], self.targets[index]\n",
        "\n",
        "# Instantiate the dataset\n",
        "dataset = CharDataset(sequences, targets)\n",
        "\n",
        "# Step 4: Create data loaders\n",
        "batch_size = 128\n",
        "train_size = int(len(dataset) * 0.8)\n",
        "test_size = len(dataset) - train_size\n",
        "train_dataset, test_dataset = torch.utils.data.random_split(dataset, [train_size, test_size])\n",
        "\n",
        "train_loader = DataLoader(train_dataset, shuffle=True, batch_size=batch_size)\n",
        "test_loader = DataLoader(test_dataset, shuffle=False, batch_size=batch_size)\n"
      ],
      "metadata": {
        "colab": {
          "base_uri": "https://localhost:8080/"
        },
        "id": "2nz_yDfna39w",
        "outputId": "ad18b751-c68f-4d1c-8844-e562535983af"
      },
      "execution_count": null,
      "outputs": [
        {
          "output_type": "stream",
          "name": "stderr",
          "text": [
            "<ipython-input-7-1a571e714d44>:2: UserWarning: To copy construct from a tensor, it is recommended to use sourceTensor.clone().detach() or sourceTensor.clone().detach().requires_grad_(True), rather than torch.tensor(sourceTensor).\n",
            "  sequences = torch.tensor(sequences, dtype=torch.long)\n",
            "<ipython-input-7-1a571e714d44>:3: UserWarning: To copy construct from a tensor, it is recommended to use sourceTensor.clone().detach() or sourceTensor.clone().detach().requires_grad_(True), rather than torch.tensor(sourceTensor).\n",
            "  targets = torch.tensor(targets, dtype=torch.long)\n"
          ]
        }
      ]
    },
    {
      "cell_type": "code",
      "execution_count": null,
      "metadata": {
        "id": "mvNS4QWjdHts"
      },
      "outputs": [],
      "source": [
        "class CharModel(nn.Module):\n",
        "    def __init__(self, input_size, hidden_size, output_size, model_type='Transformer', num_layers=2, num_heads=2, dim_feedforward=256, dropout=0.1):\n",
        "        super(CharModel, self).__init__()\n",
        "        self.hidden_size = hidden_size\n",
        "        self.embedding = nn.Embedding(input_size, hidden_size)\n",
        "        if model_type == 'Transformer':\n",
        "            encoder_layer = nn.TransformerEncoderLayer(d_model=hidden_size, nhead=num_heads, dim_feedforward=dim_feedforward, dropout=dropout)\n",
        "            self.transformer_encoder = nn.TransformerEncoder(encoder_layer, num_layers=num_layers)\n",
        "        else:\n",
        "            raise ValueError(\"Invalid model type. Choose 'Transformer'.\")\n",
        "        self.fc = nn.Linear(hidden_size, output_size)\n",
        "\n",
        "    def forward(self, x):\n",
        "        embedded = self.embedding(x)\n",
        "        transformer_output = self.transformer_encoder(embedded)\n",
        "        output = self.fc(transformer_output[:, -1, :])\n",
        "        return output\n",
        "\n",
        "# Train and evaluate function\n",
        "def train_evaluate(model_type, train_loader, val_loader, device):\n",
        "    model = CharModel(len(chars), hidden_size, len(chars), model_type).to(device)\n",
        "    criterion = nn.CrossEntropyLoss()\n",
        "    optimizer = optim.Adam(model.parameters(), lr=learning_rate)\n",
        "\n",
        "    start_time = time.time()\n",
        "    for epoch in range(epochs):\n",
        "        model.train()\n",
        "        train_loss = 0.0\n",
        "        for inputs, targets in train_loader:\n",
        "            inputs, targets = inputs.to(device), targets.to(device)  # Move data to device\n",
        "            optimizer.zero_grad()\n",
        "            output = model(inputs)\n",
        "            loss = criterion(output, targets)\n",
        "            loss.backward()\n",
        "            optimizer.step()\n",
        "            train_loss += loss.item() * inputs.size(0)\n",
        "\n",
        "        epoch_train_loss = train_loss / len(train_loader.dataset)\n",
        "\n",
        "        # Validation\n",
        "        model.eval()\n",
        "        val_loss = 0.0\n",
        "        correct = 0\n",
        "        total = 0\n",
        "        with torch.no_grad():\n",
        "            for inputs, targets in val_loader:\n",
        "                inputs, targets = inputs.to(device), targets.to(device)  # Move data to device\n",
        "                val_output = model(inputs)\n",
        "                loss = criterion(val_output, targets)\n",
        "                val_loss += loss.item() * inputs.size(0)\n",
        "                _, predicted = torch.max(val_output, 1)\n",
        "                total += targets.size(0)\n",
        "                correct += (predicted == targets).sum().item()\n",
        "\n",
        "        epoch_val_loss = val_loss / len(val_loader.dataset)\n",
        "        epoch_val_accuracy = correct / total\n",
        "\n",
        "        if (epoch+1) % 1 == 0:\n",
        "            print(f'Epoch {epoch+1}, Train Loss: {epoch_train_loss}, Validation Loss: {epoch_val_loss}, Validation Accuracy: {epoch_val_accuracy}')\n",
        "\n",
        "    end_time = time.time()\n",
        "    execution_time = end_time - start_time\n",
        "\n",
        "    return epoch_train_loss, epoch_val_loss, epoch_val_accuracy, execution_time\n"
      ]
    },
    {
      "cell_type": "code",
      "execution_count": null,
      "metadata": {
        "colab": {
          "base_uri": "https://localhost:8080/"
        },
        "id": "VNQm31Ixdfdm",
        "outputId": "e4df46ea-3a8d-4b1e-bda7-8ee2d44b7abf"
      },
      "outputs": [
        {
          "output_type": "stream",
          "name": "stdout",
          "text": [
            "\n",
            "Training models for sequence length: 30\n",
            "\n",
            "Training Transformer model...\n"
          ]
        },
        {
          "output_type": "stream",
          "name": "stderr",
          "text": [
            "/usr/local/lib/python3.10/dist-packages/torch/nn/modules/transformer.py:286: UserWarning: enable_nested_tensor is True, but self.use_nested_tensor is False because encoder_layer.self_attn.batch_first was not True(use batch_first for better inference performance)\n",
            "  warnings.warn(f\"enable_nested_tensor is True, but self.use_nested_tensor is False because {why_not_sparsity_fast_path}\")\n"
          ]
        },
        {
          "output_type": "stream",
          "name": "stdout",
          "text": [
            "Epoch 1, Train Loss: 2.5107490491257414, Validation Loss: 2.488020172938623, Validation Accuracy: 0.2680976204565424\n",
            "Epoch 2, Train Loss: 2.4821035847005573, Validation Loss: 2.477046763144282, Validation Accuracy: 0.2669589542202378\n",
            "Epoch 3, Train Loss: 2.4768103791584593, Validation Loss: 2.4769740580383783, Validation Accuracy: 0.26905696917531874\n",
            "Epoch 4, Train Loss: 2.4738894558488145, Validation Loss: 2.473137504543537, Validation Accuracy: 0.26872074882995317\n",
            "Epoch 5, Train Loss: 2.4717276780343287, Validation Loss: 2.471724611563627, Validation Accuracy: 0.2673086233794179\n",
            "Epoch 6, Train Loss: 2.4703161662037085, Validation Loss: 2.4684144497037432, Validation Accuracy: 0.2700970107769828\n",
            "Epoch 7, Train Loss: 2.469340063798938, Validation Loss: 2.46891102839656, Validation Accuracy: 0.27016873778399414\n",
            "Epoch 8, Train Loss: 2.4685835975340042, Validation Loss: 2.467863247705673, Validation Accuracy: 0.2702001183495616\n",
            "Epoch 9, Train Loss: 2.467818429429148, Validation Loss: 2.468164343543804, Validation Accuracy: 0.26931697957573475\n",
            "Epoch 10, Train Loss: 2.4673721479929642, Validation Loss: 2.4673387252669032, Validation Accuracy: 0.2700163178940951\n",
            "Epoch 11, Train Loss: 2.4667144099095357, Validation Loss: 2.4665725609232143, Validation Accuracy: 0.26991321032151633\n",
            "Epoch 12, Train Loss: 2.466123775512652, Validation Loss: 2.4666680433979007, Validation Accuracy: 0.26932594545161115\n",
            "Epoch 13, Train Loss: 2.465827656277051, Validation Loss: 2.467061465416746, Validation Accuracy: 0.2687252317678914\n",
            "Epoch 14, Train Loss: 2.465561375562488, Validation Loss: 2.466615223885865, Validation Accuracy: 0.2696083705417182\n",
            "Epoch 15, Train Loss: 2.4651355446491205, Validation Loss: 2.466744973211596, Validation Accuracy: 0.26917800849965035\n",
            "Epoch 16, Train Loss: 2.464959687059002, Validation Loss: 2.468801229430653, Validation Accuracy: 0.26931697957573475\n",
            "Epoch 17, Train Loss: 2.464755085876845, Validation Loss: 2.467166756280518, Validation Accuracy: 0.2685459142503631\n",
            "Epoch 18, Train Loss: 2.4643493185151586, Validation Loss: 2.4658736416447344, Validation Accuracy: 0.26958147291408896\n",
            "Epoch 19, Train Loss: 2.4639854335172693, Validation Loss: 2.465703560682795, Validation Accuracy: 0.269083866802948\n",
            "Epoch 20, Train Loss: 2.463689872212011, Validation Loss: 2.466697414145337, Validation Accuracy: 0.2697383757419262\n",
            "\n",
            "Results for sequence length: 30\n",
            "\n",
            "Transformer Model:\n",
            "Training Loss: 2.463689872212011\n",
            "Validation Loss: 2.466697414145337\n",
            "Validation Accuracy: 0.2697383757419262\n",
            "Execution Time: 3950.7602772712708 seconds\n"
          ]
        }
      ],
      "source": [
        "# Define parameters\n",
        "hidden_size = 512\n",
        "num_layers = 2\n",
        "num_heads = 2\n",
        "dim_feedforward = 256\n",
        "dropout = 0.1\n",
        "learning_rate = 0.0001\n",
        "device = torch.device(\"cuda\" if torch.cuda.is_available() else \"cpu\")\n",
        "epochs = 20\n",
        "\n",
        "# Train and evaluate models for sequence length 30\n",
        "print(\"\\nTraining models for sequence length: 30\")\n",
        "results = {}\n",
        "for model_type in ['Transformer']:\n",
        "    print(f\"\\nTraining {model_type} model...\")\n",
        "    loss, val_loss, val_accuracy, execution_time = train_evaluate(model_type, train_loader, test_loader, device)\n",
        "    results[model_type] = {\n",
        "        'loss': loss,\n",
        "        'val_loss': val_loss,\n",
        "        'val_accuracy': val_accuracy,\n",
        "        'execution_time': execution_time\n",
        "    }\n",
        "\n",
        "# Print and compare results\n",
        "print(\"\\nResults for sequence length: 30\")\n",
        "for model_type, data in results.items():\n",
        "    print(f\"\\n{model_type} Model:\")\n",
        "    print(f\"Training Loss: {data['loss']}\")\n",
        "    print(f\"Validation Loss: {data['val_loss']}\")\n",
        "    print(f\"Validation Accuracy: {data['val_accuracy']}\")\n",
        "    print(f\"Execution Time: {data['execution_time']} seconds\")\n"
      ]
    },
    {
      "cell_type": "code",
      "source": [
        "# Sample text\n",
        "text = '''Next character prediction is a fundamental task in the field of natural language processing (NLP) that involves predicting the next character in a sequence of text based on the characters that precede it. This task is essential for various applications, including text auto-completion, spell checking, and even in the development of sophisticated AI models capable of generating human-like text. At its core, next character prediction relies on statistical models or deep learning algorithms to analyze a given sequence of text and predict which character is most likely to follow. These predictions are based on patterns and relationships learned from large datasets of text during the training phase of the model. One of the most popular approaches to next character prediction involves the use of Recurrent Neural Networks (RNNs), and more specifically, a variant called Long Short-Term Memory (LSTM) networks. RNNs are particularly well-suited for sequential data like text, as they can maintain information in 'memory' about previous characters to inform the prediction of the next character. LSTM networks enhance this capability by being able to remember long-term dependencies, making them even more effective for next character prediction tasks. Training a model for next character prediction involves feeding it large amounts of text data, allowing it to learn the probability of each character's appearance following a sequence of characters. During this training process, the model adjusts its parameters to minimize the difference between its predictions and the actual outcomes, thus improving its predictive accuracy over time. Once trained, the model can be used to predict the next character in a given piece of text by considering the sequence of characters that precede it. This can enhance user experience in text editing software, improve efficiency in coding environments with auto-completion features, and enable more natural interactions with AI-based chatbots and virtual assistants. In summary, next character prediction plays a crucial role in enhancing the capabilities of various NLP applications, making text-based interactions more efficient, accurate, and human-like. Through the use of advanced machine learning models like RNNs and LSTMs, next character prediction continues to evolve, opening new possibilities for the future of text-based technology.'''\n",
        "\n",
        "# Preparing the dataset for sequence prediction\n",
        "max_length = 30  # Maximum length of input sequences\n",
        "sequences = [text[i:i + max_length] for i in range(len(text) - max_length)]\n",
        "labels = [text[i + max_length] for i in range(len(text) - max_length)]\n",
        "\n",
        "# Creating character vocabulary\n",
        "chars = sorted(list(set(text)))\n",
        "char_to_ix = {ch: i for i, ch in enumerate(chars)}\n",
        "\n",
        "# Convert sequences and labels to tensors\n",
        "X = torch.tensor([[char_to_ix[ch] for ch in seq] for seq in sequences], dtype=torch.long)\n",
        "y = torch.tensor([char_to_ix[label] for label in labels], dtype=torch.long)\n",
        "\n",
        "# Splitting the dataset into training and validation sets\n",
        "X_train, X_val, y_train, y_val = train_test_split(X, y, test_size=0.2, random_state=42)\n",
        "\n",
        "# Define Transformer model\n",
        "class CharTransformer(nn.Module):\n",
        "    def __init__(self, input_size, hidden_size, output_size, num_layers, nhead):\n",
        "        super(CharTransformer, self).__init__()\n",
        "        self.embedding = nn.Embedding(input_size, hidden_size)\n",
        "        encoder_layers = nn.TransformerEncoderLayer(hidden_size, nhead)\n",
        "        self.transformer_encoder = nn.TransformerEncoder(encoder_layers, num_layers)\n",
        "        self.fc = nn.Linear(hidden_size, output_size)\n",
        "\n",
        "    def forward(self, x):\n",
        "        embedded = self.embedding(x)\n",
        "        transformer_output = self.transformer_encoder(embedded)\n",
        "        output = self.fc(transformer_output[:, -1, :])  # Get output of last Transformer block\n",
        "        return output\n"
      ],
      "metadata": {
        "id": "1AGy68mwrlap"
      },
      "execution_count": null,
      "outputs": []
    },
    {
      "cell_type": "code",
      "source": [
        "# Hyperparameters\n",
        "hidden_size = 128\n",
        "num_layers = 2\n",
        "nhead = 2\n",
        "learning_rate = 0.001\n",
        "epochs = 50\n",
        "\n",
        "# Model, loss, and optimizer\n",
        "model = CharTransformer(len(chars), hidden_size, len(chars), num_layers, nhead)\n",
        "criterion = nn.CrossEntropyLoss()\n",
        "optimizer = optim.Adam(model.parameters(), lr=learning_rate)\n",
        "\n",
        "# Display model summary\n",
        "summary = torchinfo.summary(model, input_data=X_train)\n",
        "print(summary)\n",
        "\n",
        "# Training the model\n",
        "total_start_time = time.time()\n",
        "for epoch in range(epochs):\n",
        "    start_time = time.time()\n",
        "    model.train()\n",
        "    optimizer.zero_grad()\n",
        "    output = model(X_train)\n",
        "    loss = criterion(output, y_train)\n",
        "    loss.backward()\n",
        "    optimizer.step()\n",
        "\n",
        "    # Validation\n",
        "    model.eval()\n",
        "    with torch.no_grad():\n",
        "        val_output = model(X_val)\n",
        "        val_loss = criterion(val_output, y_val)\n",
        "        _, predicted = torch.max(val_output, 1)\n",
        "        val_accuracy = (predicted == y_val).float().mean()\n",
        "\n",
        "    if (epoch+1) % 5 == 0:\n",
        "        end_time = time.time()\n",
        "        execution_time = end_time - start_time\n",
        "        print(f'Epoch {epoch+1}, Loss: {loss.item()}, Validation Loss: {val_loss.item()}, Validation Accuracy: {val_accuracy.item()}, Execution Time: {execution_time} seconds')\n",
        "\n",
        "total_end_time = time.time()\n",
        "total_execution_time = total_end_time - total_start_time\n",
        "print(f'Total Execution Time: {total_execution_time} seconds')\n"
      ],
      "metadata": {
        "colab": {
          "base_uri": "https://localhost:8080/"
        },
        "id": "HCvkQ0rCroNF",
        "outputId": "e2b880bb-9534-4b4b-dc33-da132e2ab8c5"
      },
      "execution_count": null,
      "outputs": [
        {
          "output_type": "stream",
          "name": "stderr",
          "text": [
            "/usr/local/lib/python3.10/dist-packages/torch/nn/modules/transformer.py:286: UserWarning: enable_nested_tensor is True, but self.use_nested_tensor is False because encoder_layer.self_attn.batch_first was not True(use batch_first for better inference performance)\n",
            "  warnings.warn(f\"enable_nested_tensor is True, but self.use_nested_tensor is False because {why_not_sparsity_fast_path}\")\n"
          ]
        },
        {
          "output_type": "stream",
          "name": "stdout",
          "text": [
            "===============================================================================================\n",
            "Layer (type:depth-idx)                        Output Shape              Param #\n",
            "===============================================================================================\n",
            "CharTransformer                               [1884, 44]                --\n",
            "├─Embedding: 1-1                              [1884, 30, 128]           5,632\n",
            "├─TransformerEncoder: 1-2                     [1884, 30, 128]           --\n",
            "│    └─ModuleList: 2-1                        --                        --\n",
            "│    │    └─TransformerEncoderLayer: 3-1      [1884, 30, 128]           593,024\n",
            "│    │    └─TransformerEncoderLayer: 3-2      [1884, 30, 128]           593,024\n",
            "├─Linear: 1-3                                 [1884, 44]                5,676\n",
            "===============================================================================================\n",
            "Total params: 1,197,356\n",
            "Trainable params: 1,197,356\n",
            "Non-trainable params: 0\n",
            "Total mult-adds (G): 2.01\n",
            "===============================================================================================\n",
            "Input size (MB): 0.45\n",
            "Forward/backward pass size (MB): 2257.85\n",
            "Params size (MB): 4.26\n",
            "Estimated Total Size (MB): 2262.56\n",
            "===============================================================================================\n",
            "Epoch 5, Loss: 2.744051694869995, Validation Loss: 2.74220871925354, Validation Accuracy: 0.2394067794084549, Execution Time: 28.50075912475586 seconds\n",
            "Epoch 10, Loss: 2.515122413635254, Validation Loss: 2.578690767288208, Validation Accuracy: 0.22457626461982727, Execution Time: 27.992027759552002 seconds\n",
            "Epoch 15, Loss: 2.4179329872131348, Validation Loss: 2.519186496734619, Validation Accuracy: 0.2288135588169098, Execution Time: 28.57807946205139 seconds\n",
            "Epoch 20, Loss: 2.359548330307007, Validation Loss: 2.5017752647399902, Validation Accuracy: 0.23093220591545105, Execution Time: 28.062864542007446 seconds\n",
            "Epoch 25, Loss: 2.3075215816497803, Validation Loss: 2.4757769107818604, Validation Accuracy: 0.25, Execution Time: 28.276009559631348 seconds\n",
            "Epoch 30, Loss: 2.277003526687622, Validation Loss: 2.451401472091675, Validation Accuracy: 0.24364407360553741, Execution Time: 29.19243359565735 seconds\n",
            "Epoch 35, Loss: 2.2571568489074707, Validation Loss: 2.440850019454956, Validation Accuracy: 0.24788135290145874, Execution Time: 28.192795515060425 seconds\n",
            "Epoch 40, Loss: 2.2404897212982178, Validation Loss: 2.4434406757354736, Validation Accuracy: 0.25211864709854126, Execution Time: 27.967711210250854 seconds\n",
            "Epoch 45, Loss: 2.226774215698242, Validation Loss: 2.4448888301849365, Validation Accuracy: 0.24788135290145874, Execution Time: 28.858754634857178 seconds\n",
            "Epoch 50, Loss: 2.2196919918060303, Validation Loss: 2.444629430770874, Validation Accuracy: 0.24152542650699615, Execution Time: 28.05683422088623 seconds\n",
            "Total Execution Time: 1422.0270750522614 seconds\n"
          ]
        }
      ]
    }
  ]
}