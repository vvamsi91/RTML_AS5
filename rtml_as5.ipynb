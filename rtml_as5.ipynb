{
  "cells": [
    {
      "cell_type": "markdown",
      "metadata": {
        "id": "view-in-github",
        "colab_type": "text"
      },
      "source": [
        "<a href=\"https://colab.research.google.com/github/vvamsi91/RTML_AS5/blob/main/rtml_as5.ipynb\" target=\"_parent\"><img src=\"https://colab.research.google.com/assets/colab-badge.svg\" alt=\"Open In Colab\"/></a>"
      ]
    },
    {
      "cell_type": "code",
      "execution_count": null,
      "metadata": {
        "colab": {
          "base_uri": "https://localhost:8080/"
        },
        "id": "WfvuKLpA0dMe",
        "outputId": "a7810675-ff83-4e76-f280-fa35edf9a77f"
      },
      "outputs": [
        {
          "name": "stdout",
          "output_type": "stream",
          "text": [
            "Collecting torchinfo\n",
            "  Downloading torchinfo-1.8.0-py3-none-any.whl (23 kB)\n",
            "Installing collected packages: torchinfo\n",
            "Successfully installed torchinfo-1.8.0\n"
          ]
        }
      ],
      "source": [
        "!pip install torchinfo\n",
        "\n",
        "import torch\n",
        "import torch.nn as nn\n",
        "import torch.optim as optim\n",
        "import numpy as np\n",
        "from sklearn.model_selection import train_test_split\n",
        "import time\n",
        "import numpy as np\n",
        "import torchinfo"
      ]
    },
    {
      "cell_type": "code",
      "execution_count": null,
      "metadata": {
        "id": "TkvVAx0T1J9Z"
      },
      "outputs": [],
      "source": [
        "# Sample text\n",
        "text = '''Next character prediction is a fundamental task in the field of natural language processing (NLP) that involves predicting the next character in a sequence of text based on the characters that precede it. This task is essential for various applications, including text auto-completion, spell checking, and even in the development of sophisticated AI models capable of generating human-like text. At its core, next character prediction relies on statistical models or deep learning algorithms to analyze a given sequence of text and predict which character is most likely to follow. These predictions are based on patterns and relationships learned from large datasets of text during the training phase of the model. One of the most popular approaches to next character prediction involves the use of Recurrent Neural Networks (RNNs), and more specifically, a variant called Long Short-Term Memory (LSTM) networks. RNNs are particularly well-suited for sequential data like text, as they can maintain information in 'memory' about previous characters to inform the prediction of the next character. LSTM networks enhance this capability by being able to remember long-term dependencies, making them even more effective for next character prediction tasks. Training a model for next character prediction involves feeding it large amounts of text data, allowing it to learn the probability of each character's appearance following a sequence of characters. During this training process, the model adjusts its parameters to minimize the difference between its predictions and the actual outcomes, thus improving its predictive accuracy over time. Once trained, the model can be used to predict the next character in a given piece of text by considering the sequence of characters that precede it. This can enhance user experience in text editing software, improve efficiency in coding environments with auto-completion features, and enable more natural interactions with AI-based chatbots and virtual assistants. In summary, next character prediction plays a crucial role in enhancing the capabilities of various NLP applications, making text-based interactions more efficient, accurate, and human-like. Through the use of advanced machine learning models like RNNs and LSTMs, next character prediction continues to evolve, opening new possibilities for the future of text-based technology.'''\n",
        "\n",
        "# Preparing the dataset for sequence prediction\n",
        "max_length = 10  # Maximum length of input sequences\n",
        "sequences = [text[i:i + max_length] for i in range(len(text) - max_length)]\n",
        "labels = [text[i + max_length] for i in range(len(text) - max_length)]\n"
      ]
    },
    {
      "cell_type": "code",
      "execution_count": null,
      "metadata": {
        "colab": {
          "base_uri": "https://localhost:8080/"
        },
        "id": "WOTcWt_Z2Yr8",
        "outputId": "e3c45172-4461-4632-cde6-07d54efc1509"
      },
      "outputs": [
        {
          "name": "stderr",
          "output_type": "stream",
          "text": [
            "/usr/local/lib/python3.10/dist-packages/torch/nn/modules/transformer.py:286: UserWarning: enable_nested_tensor is True, but self.use_nested_tensor is False because encoder_layer.self_attn.batch_first was not True(use batch_first for better inference performance)\n",
            "  warnings.warn(f\"enable_nested_tensor is True, but self.use_nested_tensor is False because {why_not_sparsity_fast_path}\")\n"
          ]
        },
        {
          "name": "stdout",
          "output_type": "stream",
          "text": [
            "===============================================================================================\n",
            "Layer (type:depth-idx)                        Output Shape              Param #\n",
            "===============================================================================================\n",
            "CharTransformer                               [1900, 44]                --\n",
            "├─Embedding: 1-1                              [1900, 10, 128]           5,632\n",
            "├─TransformerEncoder: 1-2                     [1900, 10, 128]           --\n",
            "│    └─ModuleList: 2-1                        --                        --\n",
            "│    │    └─TransformerEncoderLayer: 3-1      [1900, 10, 128]           593,024\n",
            "│    │    └─TransformerEncoderLayer: 3-2      [1900, 10, 128]           593,024\n",
            "│    │    └─TransformerEncoderLayer: 3-3      [1900, 10, 128]           593,024\n",
            "├─Linear: 1-3                                 [1900, 44]                5,676\n",
            "===============================================================================================\n",
            "Total params: 1,790,380\n",
            "Trainable params: 1,790,380\n",
            "Non-trainable params: 0\n",
            "Total mult-adds (G): 3.03\n",
            "===============================================================================================\n",
            "Input size (MB): 0.15\n",
            "Forward/backward pass size (MB): 1129.12\n",
            "Params size (MB): 6.37\n",
            "Estimated Total Size (MB): 1135.64\n",
            "===============================================================================================\n"
          ]
        }
      ],
      "source": [
        "# Define character vocabulary\n",
        "chars = sorted(set(text))  # Unique characters in the text\n",
        "char_to_ix = {ch: i for i, ch in enumerate(chars)}  # Mapping of characters to indices\n",
        "\n",
        "# Convert sequences and labels to tensors\n",
        "X = torch.tensor([[char_to_ix[ch] for ch in seq] for seq in sequences], dtype=torch.long)  # Input sequences as tensors\n",
        "y = torch.tensor([char_to_ix[label] for label in labels], dtype=torch.long)  # Labels as tensors\n",
        "\n",
        "# Split the dataset into training and validation sets\n",
        "X_train, X_val, y_train, y_val = train_test_split(X, y, test_size=0.2, random_state=42)  # Train/validation split\n",
        "\n",
        "# Define Transformer model\n",
        "class CharTransformer(nn.Module):\n",
        "    def __init__(self, input_size, hidden_size, output_size, num_layers, nhead):\n",
        "        super(CharTransformer, self).__init__()\n",
        "        self.embedding = nn.Embedding(input_size, hidden_size)  # Character embedding layer\n",
        "        self.transformer_encoder = nn.TransformerEncoder(nn.TransformerEncoderLayer(hidden_size, nhead), num_layers)  # Transformer encoder\n",
        "        self.fc = nn.Linear(hidden_size, output_size)  # Fully connected layer for output\n",
        "\n",
        "    def forward(self, x):\n",
        "        output = self.fc(self.transformer_encoder(self.embedding(x))[:, -1, :])  # Forward pass\n",
        "        return output\n",
        "\n",
        "# Hyperparameters\n",
        "hidden_size, num_layers, nhead = 128, 3, 2  # Model dimensions\n",
        "learning_rate, epochs = 0.001, 50  # Training parameters\n",
        "\n",
        "# Model, loss, and optimizer\n",
        "model = CharTransformer(len(chars), hidden_size, len(chars), num_layers, nhead)  # Instantiate model\n",
        "criterion, optimizer = nn.CrossEntropyLoss(), optim.Adam(model.parameters(), lr=learning_rate)  # Loss and optimizer\n",
        "\n",
        "# Display model summary\n",
        "print(torchinfo.summary(model, input_data=X_train))  # Model summary\n"
      ]
    },
    {
      "cell_type": "code",
      "execution_count": null,
      "metadata": {
        "colab": {
          "base_uri": "https://localhost:8080/"
        },
        "id": "fvRzWWNl24l2",
        "outputId": "f72f0eb2-a237-4545-8bdb-dd094d259015"
      },
      "outputs": [
        {
          "name": "stdout",
          "output_type": "stream",
          "text": [
            "Epoch 5, Loss: 2.9149386882781982, Validation Loss: 2.8146414756774902, Validation Accuracy: 0.18907563388347626, Execution Time: 17.4826078414917 seconds\n",
            "Epoch 10, Loss: 2.628356456756592, Validation Loss: 2.5621261596679688, Validation Accuracy: 0.25, Execution Time: 17.320786476135254 seconds\n",
            "Epoch 15, Loss: 2.4864165782928467, Validation Loss: 2.4559226036071777, Validation Accuracy: 0.2710084021091461, Execution Time: 17.466740131378174 seconds\n",
            "Epoch 20, Loss: 2.4133033752441406, Validation Loss: 2.4013073444366455, Validation Accuracy: 0.2899159789085388, Execution Time: 18.022886753082275 seconds\n",
            "Epoch 25, Loss: 2.356829881668091, Validation Loss: 2.3727054595947266, Validation Accuracy: 0.3025210201740265, Execution Time: 17.724019765853882 seconds\n",
            "Epoch 30, Loss: 2.313598394393921, Validation Loss: 2.3390276432037354, Validation Accuracy: 0.287815123796463, Execution Time: 18.265181064605713 seconds\n",
            "Epoch 35, Loss: 2.2797720432281494, Validation Loss: 2.318742513656616, Validation Accuracy: 0.29201680421829224, Execution Time: 24.431273221969604 seconds\n",
            "Epoch 40, Loss: 2.267320394515991, Validation Loss: 2.308870315551758, Validation Accuracy: 0.29831933975219727, Execution Time: 17.162260055541992 seconds\n",
            "Epoch 45, Loss: 2.2480416297912598, Validation Loss: 2.3138926029205322, Validation Accuracy: 0.2899159789085388, Execution Time: 18.83406114578247 seconds\n",
            "Epoch 50, Loss: 2.24406099319458, Validation Loss: 2.309190034866333, Validation Accuracy: 0.28151261806488037, Execution Time: 18.29017448425293 seconds\n",
            "Total Execution Time: 912.0652539730072 seconds\n"
          ]
        }
      ],
      "source": [
        "# Training the model\n",
        "total_start_time = time.time()  # Start time for total execution\n",
        "for epoch in range(epochs):\n",
        "    start_time = time.time()  # Start time for current epoch\n",
        "    model.train()  # Set model to training mode\n",
        "    optimizer.zero_grad()  # Clear gradients\n",
        "    output = model(X_train)  # Forward pass\n",
        "    loss = criterion(output, y_train)  # Calculate training loss\n",
        "    loss.backward()  # Backpropagation\n",
        "    optimizer.step()  # Update weights\n",
        "\n",
        "    # Validation\n",
        "    model.eval()  # Set model to evaluation mode\n",
        "    with torch.no_grad():\n",
        "        val_output = model(X_val)  # Forward pass for validation\n",
        "        val_loss = criterion(val_output, y_val)  # Calculate validation loss\n",
        "        _, predicted = torch.max(val_output, 1)  # Predicted labels\n",
        "        val_accuracy = (predicted == y_val).float().mean()  # Validation accuracy\n",
        "\n",
        "    # Print progress every 5 epochs\n",
        "    if (epoch+1) % 5 == 0:\n",
        "        end_time = time.time()  # End time for current epoch\n",
        "        execution_time = end_time - start_time  # Execution time for current epoch\n",
        "        print(f'Epoch {epoch+1}, Loss: {loss.item()}, Validation Loss: {val_loss.item()}, Validation Accuracy: {val_accuracy.item()}, Execution Time: {execution_time} seconds')\n",
        "\n",
        "total_end_time = time.time()  # End time for total execution\n",
        "total_execution_time = total_end_time - total_start_time  # Total execution time\n",
        "print(f'Total Execution Time: {total_execution_time} seconds')  # Print total execution time\n"
      ]
    },
    {
      "cell_type": "code",
      "execution_count": null,
      "metadata": {
        "id": "pgqo5BZj5zKf"
      },
      "outputs": [],
      "source": [
        "# Sample text\n",
        "text = '''Next character prediction is a fundamental task in the field of natural language processing (NLP) that involves predicting the next character in a sequence of text based on the characters that precede it. This task is essential for various applications, including text auto-completion, spell checking, and even in the development of sophisticated AI models capable of generating human-like text. At its core, next character prediction relies on statistical models or deep learning algorithms to analyze a given sequence of text and predict which character is most likely to follow. These predictions are based on patterns and relationships learned from large datasets of text during the training phase of the model. One of the most popular approaches to next character prediction involves the use of Recurrent Neural Networks (RNNs), and more specifically, a variant called Long Short-Term Memory (LSTM) networks. RNNs are particularly well-suited for sequential data like text, as they can maintain information in 'memory' about previous characters to inform the prediction of the next character. LSTM networks enhance this capability by being able to remember long-term dependencies, making them even more effective for next character prediction tasks. Training a model for next character prediction involves feeding it large amounts of text data, allowing it to learn the probability of each character's appearance following a sequence of characters. During this training process, the model adjusts its parameters to minimize the difference between its predictions and the actual outcomes, thus improving its predictive accuracy over time. Once trained, the model can be used to predict the next character in a given piece of text by considering the sequence of characters that precede it. This can enhance user experience in text editing software, improve efficiency in coding environments with auto-completion features, and enable more natural interactions with AI-based chatbots and virtual assistants. In summary, next character prediction plays a crucial role in enhancing the capabilities of various NLP applications, making text-based interactions more efficient, accurate, and human-like. Through the use of advanced machine learning models like RNNs and LSTMs, next character prediction continues to evolve, opening new possibilities for the future of text-based technology.'''\n",
        "\n",
        "# Preparing the dataset for sequence prediction\n",
        "max_length = 20  # Maximum length of input sequences\n",
        "sequences = [text[i:i + max_length] for i in range(len(text) - max_length)]\n",
        "labels = [text[i + max_length] for i in range(len(text) - max_length)]\n",
        "\n",
        "# Creating character vocabulary\n",
        "chars = sorted(list(set(text)))  # Unique characters in the text\n",
        "char_to_ix = {ch: i for i, ch in enumerate(chars)}  # Mapping of characters to indices\n",
        "\n",
        "# Convert sequences and labels to tensors\n",
        "X = torch.tensor([[char_to_ix[ch] for ch in seq] for seq in sequences], dtype=torch.long)  # Input sequences as tensors\n",
        "y = torch.tensor([char_to_ix[label] for label in labels], dtype=torch.long)  # Labels as tensors\n",
        "\n",
        "# Splitting the dataset into training and validation sets\n",
        "X_train, X_val, y_train, y_val = train_test_split(X, y, test_size=0.2, random_state=42)  # Train/validation split\n",
        "\n",
        "# Define Transformer model\n",
        "class CharTransformer(nn.Module):\n",
        "    def __init__(self, input_size, hidden_size, output_size, num_layers, nhead):\n",
        "        super(CharTransformer, self).__init__()\n",
        "        self.embedding = nn.Embedding(input_size, hidden_size)  # Embedding layer\n",
        "        encoder_layers = nn.TransformerEncoderLayer(hidden_size, nhead)\n",
        "        self.transformer_encoder = nn.TransformerEncoder(encoder_layers, num_layers)  # Transformer encoder\n",
        "        self.fc = nn.Linear(hidden_size, output_size)  # Fully connected layer for output\n",
        "\n",
        "    def forward(self, x):\n",
        "        embedded = self.embedding(x)  # Embedding input\n",
        "        transformer_output = self.transformer_encoder(embedded)  # Transformer encoder\n",
        "        output = self.fc(transformer_output[:, -1, :])  # Get output of last Transformer block\n",
        "        return output\n",
        "\n"
      ]
    },
    {
      "cell_type": "code",
      "execution_count": null,
      "metadata": {
        "colab": {
          "base_uri": "https://localhost:8080/"
        },
        "id": "4_b8o8VB7RW5",
        "outputId": "25665200-7fe8-4c65-d129-c29df66e8d92"
      },
      "outputs": [
        {
          "name": "stderr",
          "output_type": "stream",
          "text": [
            "/usr/local/lib/python3.10/dist-packages/torch/nn/modules/transformer.py:286: UserWarning: enable_nested_tensor is True, but self.use_nested_tensor is False because encoder_layer.self_attn.batch_first was not True(use batch_first for better inference performance)\n",
            "  warnings.warn(f\"enable_nested_tensor is True, but self.use_nested_tensor is False because {why_not_sparsity_fast_path}\")\n"
          ]
        },
        {
          "name": "stdout",
          "output_type": "stream",
          "text": [
            "===============================================================================================\n",
            "Layer (type:depth-idx)                        Output Shape              Param #\n",
            "===============================================================================================\n",
            "CharTransformer                               [1892, 44]                --\n",
            "├─Embedding: 1-1                              [1892, 20, 128]           5,632\n",
            "├─TransformerEncoder: 1-2                     [1892, 20, 128]           --\n",
            "│    └─ModuleList: 2-1                        --                        --\n",
            "│    │    └─TransformerEncoderLayer: 3-1      [1892, 20, 128]           593,024\n",
            "│    │    └─TransformerEncoderLayer: 3-2      [1892, 20, 128]           593,024\n",
            "│    │    └─TransformerEncoderLayer: 3-3      [1892, 20, 128]           593,024\n",
            "├─Linear: 1-3                                 [1892, 44]                5,676\n",
            "===============================================================================================\n",
            "Total params: 1,790,380\n",
            "Trainable params: 1,790,380\n",
            "Non-trainable params: 0\n",
            "Total mult-adds (G): 3.01\n",
            "===============================================================================================\n",
            "Input size (MB): 0.30\n",
            "Forward/backward pass size (MB): 2248.06\n",
            "Params size (MB): 6.37\n",
            "Estimated Total Size (MB): 2254.73\n",
            "===============================================================================================\n",
            "Epoch 5, Loss: 2.849522113800049, Validation Loss: 2.7331020832061768, Validation Accuracy: 0.25738397240638733, Execution Time: 36.09666347503662 seconds\n",
            "Epoch 10, Loss: 2.5730881690979004, Validation Loss: 2.5325160026550293, Validation Accuracy: 0.2531645596027374, Execution Time: 36.039287090301514 seconds\n",
            "Epoch 15, Loss: 2.4608237743377686, Validation Loss: 2.467737913131714, Validation Accuracy: 0.2531645596027374, Execution Time: 35.53399300575256 seconds\n",
            "Epoch 20, Loss: 2.3916754722595215, Validation Loss: 2.44504976272583, Validation Accuracy: 0.2848101258277893, Execution Time: 36.94186758995056 seconds\n",
            "Epoch 25, Loss: 2.3374953269958496, Validation Loss: 2.440380096435547, Validation Accuracy: 0.2763713002204895, Execution Time: 35.99154210090637 seconds\n",
            "Epoch 30, Loss: 2.305269956588745, Validation Loss: 2.415191888809204, Validation Accuracy: 0.26582279801368713, Execution Time: 36.453643560409546 seconds\n",
            "Epoch 35, Loss: 2.276872158050537, Validation Loss: 2.395176410675049, Validation Accuracy: 0.27848100662231445, Execution Time: 35.75519919395447 seconds\n",
            "Epoch 40, Loss: 2.264558792114258, Validation Loss: 2.3797175884246826, Validation Accuracy: 0.2763713002204895, Execution Time: 35.453688621520996 seconds\n",
            "Epoch 45, Loss: 2.2477164268493652, Validation Loss: 2.376312732696533, Validation Accuracy: 0.28270041942596436, Execution Time: 36.07455492019653 seconds\n"
          ]
        }
      ],
      "source": [
        "# Hyperparameters\n",
        "hidden_size, num_layers, nhead = 128, 3, 2  # Model dimensions\n",
        "learning_rate, epochs = 0.001, 50  # Training parameters\n",
        "\n",
        "# Model, loss, and optimizer\n",
        "model = CharTransformer(len(chars), hidden_size, len(chars), num_layers, nhead)  # Instantiate model\n",
        "criterion = nn.CrossEntropyLoss()  # Loss function\n",
        "optimizer = optim.Adam(model.parameters(), lr=learning_rate)  # Optimizer\n",
        "\n",
        "# Display model summary\n",
        "summary = torchinfo.summary(model, input_data=X_train)  # Model summary\n",
        "print(summary)\n",
        "\n",
        "# Training the model\n",
        "total_start_time = time.time()  # Start time for total execution\n",
        "for epoch in range(epochs):\n",
        "    start_time = time.time()  # Start time for current epoch\n",
        "    model.train()  # Set model to training mode\n",
        "    optimizer.zero_grad()  # Clear gradients\n",
        "    output = model(X_train)  # Forward pass\n",
        "    loss = criterion(output, y_train)  # Calculate training loss\n",
        "    loss.backward()  # Backpropagation\n",
        "    optimizer.step()  # Update weights\n",
        "\n",
        "    # Validation\n",
        "    model.eval()  # Set model to evaluation mode\n",
        "    with torch.no_grad():\n",
        "        val_output = model(X_val)  # Forward pass for validation\n",
        "        val_loss = criterion(val_output, y_val)  # Calculate validation loss\n",
        "        _, predicted = torch.max(val_output, 1)  # Predicted labels\n",
        "        val_accuracy = (predicted == y_val).float().mean()  # Validation accuracy\n",
        "\n",
        "    # Print progress every 5 epochs\n",
        "    if (epoch+1) % 5 == 0:\n",
        "        end_time = time.time()  # End time for current epoch\n",
        "        execution_time = end_time - start_time  # Execution time for current epoch\n",
        "        print(f'Epoch {epoch+1}, Loss: {loss.item()}, Validation Loss: {val_loss.item()}, Validation Accuracy: {val_accuracy.item()}, Execution Time: {execution_time} seconds')\n",
        "\n",
        "total_end_time = time.time()  # End time for total execution\n",
        "total_execution_time = total_end_time - total_start_time  # Total execution time\n",
        "print(f'Total Execution Time: {total_execution_time} seconds')  # Print total execution time\n"
      ]
    },
    {
      "cell_type": "code",
      "execution_count": null,
      "metadata": {
        "colab": {
          "base_uri": "https://localhost:8080/"
        },
        "id": "wTpjgFj-E9g4",
        "outputId": "28646eb5-b71f-4874-dc8c-adcd6b0b7a3f"
      },
      "outputs": [
        {
          "name": "stderr",
          "output_type": "stream",
          "text": [
            "/usr/local/lib/python3.10/dist-packages/torch/nn/modules/transformer.py:286: UserWarning: enable_nested_tensor is True, but self.use_nested_tensor is False because encoder_layer.self_attn.batch_first was not True(use batch_first for better inference performance)\n",
            "  warnings.warn(f\"enable_nested_tensor is True, but self.use_nested_tensor is False because {why_not_sparsity_fast_path}\")\n"
          ]
        },
        {
          "name": "stdout",
          "output_type": "stream",
          "text": [
            "===============================================================================================\n",
            "Layer (type:depth-idx)                        Output Shape              Param #\n",
            "===============================================================================================\n",
            "CharTransformer                               [1884, 44]                --\n",
            "├─Embedding: 1-1                              [1884, 30, 128]           5,632\n",
            "├─TransformerEncoder: 1-2                     [1884, 30, 128]           --\n",
            "│    └─ModuleList: 2-1                        --                        --\n",
            "│    │    └─TransformerEncoderLayer: 3-1      [1884, 30, 128]           593,024\n",
            "│    │    └─TransformerEncoderLayer: 3-2      [1884, 30, 128]           593,024\n",
            "├─Linear: 1-3                                 [1884, 44]                5,676\n",
            "===============================================================================================\n",
            "Total params: 1,197,356\n",
            "Trainable params: 1,197,356\n",
            "Non-trainable params: 0\n",
            "Total mult-adds (G): 2.01\n",
            "===============================================================================================\n",
            "Input size (MB): 0.45\n",
            "Forward/backward pass size (MB): 2257.85\n",
            "Params size (MB): 4.26\n",
            "Estimated Total Size (MB): 2262.56\n",
            "===============================================================================================\n",
            "Epoch 5, Loss: 2.7680368423461914, Validation Loss: 2.763059377670288, Validation Accuracy: 0.2394067794084549, Execution Time: 30.75780725479126 seconds\n",
            "Epoch 10, Loss: 2.5376625061035156, Validation Loss: 2.60758113861084, Validation Accuracy: 0.24788135290145874, Execution Time: 31.03829836845398 seconds\n",
            "Epoch 15, Loss: 2.434561252593994, Validation Loss: 2.5544393062591553, Validation Accuracy: 0.23728813230991364, Execution Time: 30.18320322036743 seconds\n",
            "Epoch 20, Loss: 2.3771913051605225, Validation Loss: 2.4975802898406982, Validation Accuracy: 0.2394067794084549, Execution Time: 31.19290804862976 seconds\n",
            "Epoch 25, Loss: 2.3300161361694336, Validation Loss: 2.4705333709716797, Validation Accuracy: 0.24788135290145874, Execution Time: 30.761817932128906 seconds\n",
            "Epoch 30, Loss: 2.2980337142944336, Validation Loss: 2.4555695056915283, Validation Accuracy: 0.24364407360553741, Execution Time: 30.700456619262695 seconds\n",
            "Epoch 35, Loss: 2.269190549850464, Validation Loss: 2.4388856887817383, Validation Accuracy: 0.2542372941970825, Execution Time: 29.6584529876709 seconds\n",
            "Epoch 40, Loss: 2.247636079788208, Validation Loss: 2.428248882293701, Validation Accuracy: 0.26271185278892517, Execution Time: 30.616166353225708 seconds\n",
            "Epoch 45, Loss: 2.23734450340271, Validation Loss: 2.43554949760437, Validation Accuracy: 0.25211864709854126, Execution Time: 29.707777500152588 seconds\n",
            "Epoch 50, Loss: 2.2261762619018555, Validation Loss: 2.4313743114471436, Validation Accuracy: 0.24576270580291748, Execution Time: 30.0605046749115 seconds\n",
            "Total Execution Time: 1524.3709380626678 seconds\n"
          ]
        }
      ],
      "source": [
        "import torchinfo\n",
        "# Sample text\n",
        "text = '''Next character prediction is a fundamental task in the field of natural language processing (NLP) that involves predicting the next character in a sequence of text based on the characters that precede it. This task is essential for various applications, including text auto-completion, spell checking, and even in the development of sophisticated AI models capable of generating human-like text. At its core, next character prediction relies on statistical models or deep learning algorithms to analyze a given sequence of text and predict which character is most likely to follow. These predictions are based on patterns and relationships learned from large datasets of text during the training phase of the model. One of the most popular approaches to next character prediction involves the use of Recurrent Neural Networks (RNNs), and more specifically, a variant called Long Short-Term Memory (LSTM) networks. RNNs are particularly well-suited for sequential data like text, as they can maintain information in 'memory' about previous characters to inform the prediction of the next character. LSTM networks enhance this capability by being able to remember long-term dependencies, making them even more effective for next character prediction tasks. Training a model for next character prediction involves feeding it large amounts of text data, allowing it to learn the probability of each character's appearance following a sequence of characters. During this training process, the model adjusts its parameters to minimize the difference between its predictions and the actual outcomes, thus improving its predictive accuracy over time. Once trained, the model can be used to predict the next character in a given piece of text by considering the sequence of characters that precede it. This can enhance user experience in text editing software, improve efficiency in coding environments with auto-completion features, and enable more natural interactions with AI-based chatbots and virtual assistants. In summary, next character prediction plays a crucial role in enhancing the capabilities of various NLP applications, making text-based interactions more efficient, accurate, and human-like. Through the use of advanced machine learning models like RNNs and LSTMs, next character prediction continues to evolve, opening new possibilities for the future of text-based technology.'''\n",
        "\n",
        "# Preparing the dataset for sequence prediction\n",
        "max_length = 30  # Maximum length of input sequences\n",
        "sequences = [text[i:i + max_length] for i in range(len(text) - max_length)]\n",
        "labels = [text[i + max_length] for i in range(len(text) - max_length)]\n",
        "\n",
        "# Creating character vocabulary\n",
        "chars = sorted(set(text))  # Unique characters in the text\n",
        "char_to_ix = {ch: i for i, ch in enumerate(chars)}  # Mapping of characters to indices\n",
        "\n",
        "# Convert sequences and labels to tensors\n",
        "X = torch.tensor([[char_to_ix[ch] for ch in seq] for seq in sequences], dtype=torch.long)  # Input sequences as tensors\n",
        "y = torch.tensor([char_to_ix[label] for label in labels], dtype=torch.long)  # Labels as tensors\n",
        "\n",
        "# Splitting the dataset into training and validation sets\n",
        "X_train, X_val, y_train, y_val = train_test_split(X, y, test_size=0.2, random_state=42)  # Train/validation split\n",
        "\n",
        "# Define Transformer model\n",
        "class CharTransformer(nn.Module):\n",
        "    def __init__(self, input_size, hidden_size, output_size, num_layers, nhead):\n",
        "        super(CharTransformer, self).__init__()\n",
        "        self.embedding = nn.Embedding(input_size, hidden_size)  # Embedding layer\n",
        "        encoder_layers = nn.TransformerEncoderLayer(hidden_size, nhead)\n",
        "        self.transformer_encoder = nn.TransformerEncoder(encoder_layers, num_layers)  # Transformer encoder\n",
        "        self.fc = nn.Linear(hidden_size, output_size)  # Fully connected layer for output\n",
        "\n",
        "    def forward(self, x):\n",
        "        embedded = self.embedding(x)  # Embedding input\n",
        "        transformer_output = self.transformer_encoder(embedded)  # Transformer encoder\n",
        "        output = self.fc(transformer_output[:, -1, :])  # Get output of last Transformer block\n",
        "        return output\n",
        "        # Hyperparameters\n",
        "hidden_size, num_layers, nhead = 128, 2, 2  # Model dimensions\n",
        "learning_rate, epochs = 0.001, 50  # Training parameters\n",
        "\n",
        "# Model, loss, and optimizer\n",
        "model = CharTransformer(len(chars), hidden_size, len(chars), num_layers, nhead)  # Instantiate model\n",
        "criterion = nn.CrossEntropyLoss()  # Define loss function\n",
        "optimizer = optim.Adam(model.parameters(), lr=learning_rate)  # Define optimizer\n",
        "\n",
        "# Display model summary\n",
        "summary = torchinfo.summary(model, input_data=X_train)  # Model summary\n",
        "print(summary)\n",
        "\n",
        "# Training the model\n",
        "total_start_time = time.time()  # Start time for total execution\n",
        "for epoch in range(epochs):\n",
        "    start_time = time.time()  # Start time for current epoch\n",
        "    model.train()  # Set model to training mode\n",
        "    optimizer.zero_grad()  # Clear gradients\n",
        "    output = model(X_train)  # Forward pass\n",
        "    loss = criterion(output, y_train)  # Calculate training loss\n",
        "    loss.backward()  # Backpropagation\n",
        "    optimizer.step()  # Update weights\n",
        "\n",
        "    # Validation\n",
        "    model.eval()  # Set model to evaluation mode\n",
        "    with torch.no_grad():\n",
        "        val_output = model(X_val)  # Forward pass for validation\n",
        "        val_loss = criterion(val_output, y_val)  # Calculate validation loss\n",
        "        _, predicted = torch.max(val_output, 1)  # Predicted labels\n",
        "        val_accuracy = (predicted == y_val).float().mean()  # Validation accuracy\n",
        "\n",
        "    # Print progress every 5 epochs\n",
        "    if (epoch+1) % 5 == 0:\n",
        "        end_time = time.time()  # End time for current epoch\n",
        "        execution_time = end_time - start_time  # Execution time for current epoch\n",
        "        print(f'Epoch {epoch+1}, Loss: {loss.item()}, Validation Loss: {val_loss.item()}, Validation Accuracy: {val_accuracy.item()}, Execution Time: {execution_time} seconds')\n",
        "\n",
        "total_end_time = time.time()  # End time for total execution\n",
        "total_execution_time = total_end_time - total_start_time  # Total execution time\n",
        "print(f'Total Execution Time: {total_execution_time} seconds')  # Print total execution time\n",
        "\n"
      ]
    },
    {
      "cell_type": "code",
      "execution_count": null,
      "metadata": {
        "id": "NPwvfNWbPjrr"
      },
      "outputs": [],
      "source": [
        "from torch.utils.data import Dataset, DataLoader\n",
        "import requests\n",
        "import math\n",
        "\n",
        "# Check for GPU availability\n",
        "device = torch.device(\"cuda\" if torch.cuda.is_available() else \"cpu\")"
      ]
    },
    {
      "cell_type": "code",
      "execution_count": null,
      "metadata": {
        "id": "X_hRUZRWQOwU"
      },
      "outputs": [],
      "source": [
        "url = \"https://raw.githubusercontent.com/karpathy/char-rnn/master/data/tinyshakespeare/input.txt\"\n",
        "response = requests.get(url)\n",
        "text = response.text  #Entire text data"
      ]
    },
    {
      "cell_type": "code",
      "execution_count": null,
      "metadata": {
        "id": "W8TNjPyxQfUB"
      },
      "outputs": [],
      "source": [
        "# Define sequence length\n",
        "sequence_length = 20\n",
        "\n",
        "# Truncate text to fit sequence length\n",
        "text = text[:sequence_length * (len(text)//sequence_length)]\n",
        "\n",
        "# Create a character mapping to integers\n",
        "chars = sorted(set(text))\n",
        "char_to_int = {ch: i for i, ch in enumerate(chars)}\n",
        "int_to_char = {i: ch for i, ch in enumerate(chars)}\n",
        "\n",
        "# Encode the text into integers\n",
        "encoded_text = [char_to_int[ch] for ch in text]\n",
        "\n",
        "# Create sequences and targets\n",
        "sequences = []\n",
        "targets = []\n",
        "for i in range(0, len(encoded_text) - sequence_length):\n",
        "    seq = encoded_text[i:i+sequence_length]\n",
        "    target = encoded_text[i+sequence_length]\n",
        "    sequences.append(seq)\n",
        "    targets.append(target)\n",
        "\n",
        "# Convert lists to PyTorch tensors\n",
        "sequences = torch.tensor(sequences, dtype=torch.long)\n",
        "targets = torch.tensor(targets, dtype=torch.long)\n"
      ]
    },
    {
      "cell_type": "code",
      "execution_count": null,
      "metadata": {
        "id": "2cAjCNOzRDGe"
      },
      "outputs": [],
      "source": [
        "class CharDataset(Dataset):\n",
        "    def __init__(self, sequences, targets):\n",
        "        self.sequences = sequences\n",
        "        self.targets = targets\n",
        "\n",
        "    def __len__(self):\n",
        "        return len(self.sequences)\n",
        "\n",
        "    def __getitem__(self, index):\n",
        "        return self.sequences[index], self.targets[index]\n",
        "\n",
        "# Instantiate the dataset\n",
        "dataset = CharDataset(sequences, targets)\n",
        "\n",
        "# Step 4: Create data loaders\n",
        "batch_size = 128\n",
        "train_size = int(len(dataset) * 0.8)\n",
        "test_size = len(dataset) - train_size\n",
        "train_dataset, test_dataset = torch.utils.data.random_split(dataset, [train_size, test_size])\n",
        "\n",
        "train_loader = DataLoader(train_dataset, shuffle=True, batch_size=batch_size)\n",
        "test_loader = DataLoader(test_dataset, shuffle=False, batch_size=batch_size)\n",
        "\n",
        "class CharModel(nn.Module):\n",
        "    def __init__(self, input_size, hidden_size, output_size, model_type='Transformer', num_layers=2, num_heads=2, dim_feedforward=256, dropout=0.1):\n",
        "        super(CharModel, self).__init__()\n",
        "        self.hidden_size = hidden_size\n",
        "        self.embedding = nn.Embedding(input_size, hidden_size)\n",
        "        if model_type == 'Transformer':\n",
        "            encoder_layer = nn.TransformerEncoderLayer(d_model=hidden_size, nhead=num_heads, dim_feedforward=dim_feedforward, dropout=dropout)\n",
        "            self.transformer_encoder = nn.TransformerEncoder(encoder_layer, num_layers=num_layers)\n",
        "        else:\n",
        "            raise ValueError(\"Invalid model type. Choose 'Transformer'.\")\n",
        "        self.fc = nn.Linear(hidden_size, output_size)\n",
        "\n",
        "    def forward(self, x):\n",
        "        embedded = self.embedding(x)\n",
        "        transformer_output = self.transformer_encoder(embedded)\n",
        "        output = self.fc(transformer_output[:, -1, :])\n",
        "        return output\n"
      ]
    },
    {
      "cell_type": "code",
      "execution_count": null,
      "metadata": {
        "id": "f44I_OMnRJmK"
      },
      "outputs": [],
      "source": [
        "def train_evaluate(model_type, train_loader, val_loader, device):\n",
        "    model = CharModel(len(chars), hidden_size, len(chars), model_type).to(device)\n",
        "    criterion = nn.CrossEntropyLoss()\n",
        "    optimizer = optim.Adam(model.parameters(), lr=learning_rate)\n",
        "\n",
        "    start_time = time.time()\n",
        "    for epoch in range(epochs):\n",
        "        model.train()\n",
        "        train_loss = 0.0\n",
        "        for inputs, targets in train_loader:\n",
        "            inputs, targets = inputs.to(device), targets.to(device)  # Move data to device\n",
        "            optimizer.zero_grad()\n",
        "            output = model(inputs)\n",
        "            loss = criterion(output, targets)\n",
        "            loss.backward()\n",
        "            optimizer.step()\n",
        "            train_loss += loss.item() * inputs.size(0)\n",
        "\n",
        "        epoch_train_loss = train_loss / len(train_loader.dataset)\n",
        "\n",
        "        # Validation\n",
        "        model.eval()\n",
        "        val_loss = 0.0\n",
        "        correct = 0\n",
        "        total = 0\n",
        "        with torch.no_grad():\n",
        "            for inputs, targets in val_loader:\n",
        "                inputs, targets = inputs.to(device), targets.to(device)  # Move data to device\n",
        "                val_output = model(inputs)\n",
        "                loss = criterion(val_output, targets)\n",
        "                val_loss += loss.item() * inputs.size(0)\n",
        "                _, predicted = torch.max(val_output, 1)\n",
        "                total += targets.size(0)\n",
        "                correct += (predicted == targets).sum().item()\n",
        "\n",
        "        epoch_val_loss = val_loss / len(val_loader.dataset)\n",
        "        epoch_val_accuracy = correct / total\n",
        "\n",
        "        if (epoch+1) % 1 == 0:\n",
        "            print(f'Epoch {epoch+1}, Train Loss: {epoch_train_loss}, Validation Loss: {epoch_val_loss}, Validation Accuracy: {epoch_val_accuracy}')\n",
        "\n",
        "    end_time = time.time()\n",
        "    execution_time = end_time - start_time\n",
        "\n",
        "    return epoch_train_loss, epoch_val_loss, epoch_val_accuracy, execution_time\n"
      ]
    },
    {
      "cell_type": "code",
      "execution_count": null,
      "metadata": {
        "colab": {
          "base_uri": "https://localhost:8080/"
        },
        "id": "uFBKXlmGRcbY",
        "outputId": "80770807-49cc-41d0-e29d-72b78d12df4f"
      },
      "outputs": [
        {
          "name": "stdout",
          "output_type": "stream",
          "text": [
            "\n",
            "Training models for sequence length: 20\n",
            "\n",
            "Training Transformer model...\n"
          ]
        },
        {
          "name": "stderr",
          "output_type": "stream",
          "text": [
            "/usr/local/lib/python3.10/dist-packages/torch/nn/modules/transformer.py:286: UserWarning: enable_nested_tensor is True, but self.use_nested_tensor is False because encoder_layer.self_attn.batch_first was not True(use batch_first for better inference performance)\n",
            "  warnings.warn(f\"enable_nested_tensor is True, but self.use_nested_tensor is False because {why_not_sparsity_fast_path}\")\n"
          ]
        },
        {
          "name": "stdout",
          "output_type": "stream",
          "text": [
            "Epoch 1, Train Loss: 2.5118092319541607, Validation Loss: 2.4848576777122604, Validation Accuracy: 0.2652551642519007\n",
            "Epoch 2, Train Loss: 2.4827921046124453, Validation Loss: 2.4753100329604183, Validation Accuracy: 0.26944663606369246\n",
            "Epoch 3, Train Loss: 2.4774293056811447, Validation Loss: 2.4744577612019802, Validation Accuracy: 0.26935697891263805\n",
            "Epoch 4, Train Loss: 2.4739716184684766, Validation Loss: 2.471600915177996, Validation Accuracy: 0.26886386458183903\n",
            "Epoch 5, Train Loss: 2.4721536488260094, Validation Loss: 2.4703363802114597, Validation Accuracy: 0.2688459331516282\n",
            "Epoch 6, Train Loss: 2.4707283641939406, Validation Loss: 2.466827875332141, Validation Accuracy: 0.2696662960837756\n",
            "Epoch 7, Train Loss: 2.4696396465469785, Validation Loss: 2.466347221527187, Validation Accuracy: 0.26863972170420314\n",
            "Epoch 8, Train Loss: 2.4688567626153084, Validation Loss: 2.467693672479781, Validation Accuracy: 0.2693345646248745\n",
            "Epoch 9, Train Loss: 2.4679829821219283, Validation Loss: 2.4676181087362563, Validation Accuracy: 0.2671379644240425\n",
            "Epoch 10, Train Loss: 2.4675866345082853, Validation Loss: 2.4670781969870204, Validation Accuracy: 0.26592311002725577\n",
            "Epoch 11, Train Loss: 2.466981539235808, Validation Loss: 2.467094199897877, Validation Accuracy: 0.26890421029981354\n",
            "Epoch 12, Train Loss: 2.4665227411399013, Validation Loss: 2.4665269718298766, Validation Accuracy: 0.26911042174723854\n",
            "Epoch 13, Train Loss: 2.466053447154276, Validation Loss: 2.4669970747491172, Validation Accuracy: 0.2693659446277435\n",
            "Epoch 14, Train Loss: 2.465841256397353, Validation Loss: 2.465608764902076, Validation Accuracy: 0.27058976473963564\n",
            "Epoch 15, Train Loss: 2.465386131780764, Validation Loss: 2.467035696164827, Validation Accuracy: 0.2700921675512839\n",
            "Epoch 16, Train Loss: 2.4650860077304317, Validation Loss: 2.4654909592758307, Validation Accuracy: 0.2695049132118778\n",
            "Epoch 17, Train Loss: 2.464866866410129, Validation Loss: 2.464587887293501, Validation Accuracy: 0.2696080189355903\n",
            "Epoch 18, Train Loss: 2.4644986773269144, Validation Loss: 2.462610605542483, Validation Accuracy: 0.27028044756849806\n",
            "Epoch 19, Train Loss: 2.4642160741179184, Validation Loss: 2.4639487052097193, Validation Accuracy: 0.27049114187347584\n",
            "Epoch 20, Train Loss: 2.4643256025050295, Validation Loss: 2.46413159500388, Validation Accuracy: 0.26934801319753265\n",
            "\n",
            "Results for sequence length: 20\n",
            "\n",
            "Transformer Model:\n",
            "Training Loss: 2.4643256025050295\n",
            "Validation Loss: 2.46413159500388\n",
            "Validation Accuracy: 0.26934801319753265\n",
            "Execution Time: 2757.303850412369 seconds\n"
          ]
        }
      ],
      "source": [
        "# Define parameters\n",
        "hidden_size = 512\n",
        "num_layers = 2\n",
        "num_heads = 2\n",
        "dim_feedforward = 256\n",
        "dropout = 0.1\n",
        "learning_rate = 0.0001\n",
        "device = torch.device(\"cuda\" if torch.cuda.is_available() else \"cpu\")\n",
        "epochs = 20\n",
        "\n",
        "# Train and evaluate models for sequence length 20\n",
        "print(\"\\nTraining models for sequence length: 20\")\n",
        "results = {}\n",
        "for model_type in ['Transformer']:\n",
        "    print(f\"\\nTraining {model_type} model...\")\n",
        "    loss, val_loss, val_accuracy, execution_time = train_evaluate(model_type, train_loader, test_loader, device)\n",
        "    results[model_type] = {\n",
        "        'loss': loss,\n",
        "        'val_loss': val_loss,\n",
        "        'val_accuracy': val_accuracy,\n",
        "        'execution_time': execution_time\n",
        "    }\n",
        "\n",
        "# Print and compare results\n",
        "print(\"\\nResults for sequence length: 20\")\n",
        "for model_type, data in results.items():\n",
        "    print(f\"\\n{model_type} Model:\")\n",
        "    print(f\"Training Loss: {data['loss']}\")\n",
        "    print(f\"Validation Loss: {data['val_loss']}\")\n",
        "    print(f\"Validation Accuracy: {data['val_accuracy']}\")\n",
        "    print(f\"Execution Time: {data['execution_time']} seconds\")\n"
      ]
    }
  ],
  "metadata": {
    "accelerator": "GPU",
    "colab": {
      "gpuType": "T4",
      "provenance": [],
      "include_colab_link": true
    },
    "kernelspec": {
      "display_name": "Python 3",
      "name": "python3"
    },
    "language_info": {
      "name": "python"
    }
  },
  "nbformat": 4,
  "nbformat_minor": 0
}